{
  "cells": [
    {
      "cell_type": "markdown",
      "source": [
        "#HUBUNGKAN DRIVE"
      ],
      "metadata": {
        "id": "WEoqkUDr114O"
      }
    },
    {
      "cell_type": "code",
      "execution_count": null,
      "metadata": {
        "id": "Kx_2tw9r0bSj"
      },
      "outputs": [],
      "source": [
        "# Mengkoneksikan penyimpanan ke google drive\n",
        "from google.colab import drive\n",
        "drive.mount('/content/drive')"
      ]
    },
    {
      "cell_type": "code",
      "source": [
        "#mengabaikan warning\n",
        "import warnings\n",
        "warnings.filterwarnings(\"ignore\")"
      ],
      "metadata": {
        "id": "4lz76bFJFLdd"
      },
      "execution_count": null,
      "outputs": []
    },
    {
      "cell_type": "markdown",
      "metadata": {
        "id": "WOU0A0UzNa4W"
      },
      "source": [
        "#2.DATA ACQUISTION"
      ]
    },
    {
      "cell_type": "markdown",
      "metadata": {
        "id": "Jz_eczlYNt9B"
      },
      "source": [
        "Dataset yang digunakan mengambil data sekunder yang diambil bersal dari github dengan jumlah sebanyak 6.950 data\n",
        "\n"
      ]
    },
    {
      "cell_type": "code",
      "execution_count": null,
      "metadata": {
        "id": "mjYk8RLx163J"
      },
      "outputs": [],
      "source": [
        "#import libarry pandas untuk membaca CSV\n",
        "import pandas as pd"
      ]
    },
    {
      "cell_type": "code",
      "execution_count": null,
      "metadata": {
        "colab": {
          "base_uri": "https://localhost:8080/",
          "height": 270
        },
        "id": "DtlC18b42DQG",
        "outputId": "0dce6a80-98c0-4ad1-9b3d-248f85d6860b"
      },
      "outputs": [
        {
          "output_type": "execute_result",
          "data": {
            "text/plain": [
              "   UpdatedAt   customerID  gender SeniorCitizen Partner  tenure PhoneService  \\\n",
              "0     202006  45759018157  Female            No     Yes       1           No   \n",
              "1     202006  45315483266    Male            No     Yes      60          Yes   \n",
              "2     202006  45236961615    Male            No      No       5          Yes   \n",
              "3     202006  45929827382  Female            No     Yes      72          Yes   \n",
              "4     202006  45305082233  Female            No     Yes      56          Yes   \n",
              "\n",
              "  StreamingTV InternetService PaperlessBilling  MonthlyCharges  TotalCharges  \\\n",
              "0          No             Yes              Yes           29.85         29.85   \n",
              "1          No              No              Yes           20.50       1198.80   \n",
              "2         Yes             Yes               No          104.10        541.90   \n",
              "3         Yes             Yes              Yes          115.50       8312.75   \n",
              "4         Yes             Yes               No           81.25       4620.40   \n",
              "\n",
              "  Churn  \n",
              "0    No  \n",
              "1    No  \n",
              "2   Yes  \n",
              "3    No  \n",
              "4    No  "
            ],
            "text/html": [
              "\n",
              "  <div id=\"df-e097b1da-a0aa-423f-91fc-e81de735befe\">\n",
              "    <div class=\"colab-df-container\">\n",
              "      <div>\n",
              "<style scoped>\n",
              "    .dataframe tbody tr th:only-of-type {\n",
              "        vertical-align: middle;\n",
              "    }\n",
              "\n",
              "    .dataframe tbody tr th {\n",
              "        vertical-align: top;\n",
              "    }\n",
              "\n",
              "    .dataframe thead th {\n",
              "        text-align: right;\n",
              "    }\n",
              "</style>\n",
              "<table border=\"1\" class=\"dataframe\">\n",
              "  <thead>\n",
              "    <tr style=\"text-align: right;\">\n",
              "      <th></th>\n",
              "      <th>UpdatedAt</th>\n",
              "      <th>customerID</th>\n",
              "      <th>gender</th>\n",
              "      <th>SeniorCitizen</th>\n",
              "      <th>Partner</th>\n",
              "      <th>tenure</th>\n",
              "      <th>PhoneService</th>\n",
              "      <th>StreamingTV</th>\n",
              "      <th>InternetService</th>\n",
              "      <th>PaperlessBilling</th>\n",
              "      <th>MonthlyCharges</th>\n",
              "      <th>TotalCharges</th>\n",
              "      <th>Churn</th>\n",
              "    </tr>\n",
              "  </thead>\n",
              "  <tbody>\n",
              "    <tr>\n",
              "      <th>0</th>\n",
              "      <td>202006</td>\n",
              "      <td>45759018157</td>\n",
              "      <td>Female</td>\n",
              "      <td>No</td>\n",
              "      <td>Yes</td>\n",
              "      <td>1</td>\n",
              "      <td>No</td>\n",
              "      <td>No</td>\n",
              "      <td>Yes</td>\n",
              "      <td>Yes</td>\n",
              "      <td>29.85</td>\n",
              "      <td>29.85</td>\n",
              "      <td>No</td>\n",
              "    </tr>\n",
              "    <tr>\n",
              "      <th>1</th>\n",
              "      <td>202006</td>\n",
              "      <td>45315483266</td>\n",
              "      <td>Male</td>\n",
              "      <td>No</td>\n",
              "      <td>Yes</td>\n",
              "      <td>60</td>\n",
              "      <td>Yes</td>\n",
              "      <td>No</td>\n",
              "      <td>No</td>\n",
              "      <td>Yes</td>\n",
              "      <td>20.50</td>\n",
              "      <td>1198.80</td>\n",
              "      <td>No</td>\n",
              "    </tr>\n",
              "    <tr>\n",
              "      <th>2</th>\n",
              "      <td>202006</td>\n",
              "      <td>45236961615</td>\n",
              "      <td>Male</td>\n",
              "      <td>No</td>\n",
              "      <td>No</td>\n",
              "      <td>5</td>\n",
              "      <td>Yes</td>\n",
              "      <td>Yes</td>\n",
              "      <td>Yes</td>\n",
              "      <td>No</td>\n",
              "      <td>104.10</td>\n",
              "      <td>541.90</td>\n",
              "      <td>Yes</td>\n",
              "    </tr>\n",
              "    <tr>\n",
              "      <th>3</th>\n",
              "      <td>202006</td>\n",
              "      <td>45929827382</td>\n",
              "      <td>Female</td>\n",
              "      <td>No</td>\n",
              "      <td>Yes</td>\n",
              "      <td>72</td>\n",
              "      <td>Yes</td>\n",
              "      <td>Yes</td>\n",
              "      <td>Yes</td>\n",
              "      <td>Yes</td>\n",
              "      <td>115.50</td>\n",
              "      <td>8312.75</td>\n",
              "      <td>No</td>\n",
              "    </tr>\n",
              "    <tr>\n",
              "      <th>4</th>\n",
              "      <td>202006</td>\n",
              "      <td>45305082233</td>\n",
              "      <td>Female</td>\n",
              "      <td>No</td>\n",
              "      <td>Yes</td>\n",
              "      <td>56</td>\n",
              "      <td>Yes</td>\n",
              "      <td>Yes</td>\n",
              "      <td>Yes</td>\n",
              "      <td>No</td>\n",
              "      <td>81.25</td>\n",
              "      <td>4620.40</td>\n",
              "      <td>No</td>\n",
              "    </tr>\n",
              "  </tbody>\n",
              "</table>\n",
              "</div>\n",
              "      <button class=\"colab-df-convert\" onclick=\"convertToInteractive('df-e097b1da-a0aa-423f-91fc-e81de735befe')\"\n",
              "              title=\"Convert this dataframe to an interactive table.\"\n",
              "              style=\"display:none;\">\n",
              "        \n",
              "  <svg xmlns=\"http://www.w3.org/2000/svg\" height=\"24px\"viewBox=\"0 0 24 24\"\n",
              "       width=\"24px\">\n",
              "    <path d=\"M0 0h24v24H0V0z\" fill=\"none\"/>\n",
              "    <path d=\"M18.56 5.44l.94 2.06.94-2.06 2.06-.94-2.06-.94-.94-2.06-.94 2.06-2.06.94zm-11 1L8.5 8.5l.94-2.06 2.06-.94-2.06-.94L8.5 2.5l-.94 2.06-2.06.94zm10 10l.94 2.06.94-2.06 2.06-.94-2.06-.94-.94-2.06-.94 2.06-2.06.94z\"/><path d=\"M17.41 7.96l-1.37-1.37c-.4-.4-.92-.59-1.43-.59-.52 0-1.04.2-1.43.59L10.3 9.45l-7.72 7.72c-.78.78-.78 2.05 0 2.83L4 21.41c.39.39.9.59 1.41.59.51 0 1.02-.2 1.41-.59l7.78-7.78 2.81-2.81c.8-.78.8-2.07 0-2.86zM5.41 20L4 18.59l7.72-7.72 1.47 1.35L5.41 20z\"/>\n",
              "  </svg>\n",
              "      </button>\n",
              "      \n",
              "  <style>\n",
              "    .colab-df-container {\n",
              "      display:flex;\n",
              "      flex-wrap:wrap;\n",
              "      gap: 12px;\n",
              "    }\n",
              "\n",
              "    .colab-df-convert {\n",
              "      background-color: #E8F0FE;\n",
              "      border: none;\n",
              "      border-radius: 50%;\n",
              "      cursor: pointer;\n",
              "      display: none;\n",
              "      fill: #1967D2;\n",
              "      height: 32px;\n",
              "      padding: 0 0 0 0;\n",
              "      width: 32px;\n",
              "    }\n",
              "\n",
              "    .colab-df-convert:hover {\n",
              "      background-color: #E2EBFA;\n",
              "      box-shadow: 0px 1px 2px rgba(60, 64, 67, 0.3), 0px 1px 3px 1px rgba(60, 64, 67, 0.15);\n",
              "      fill: #174EA6;\n",
              "    }\n",
              "\n",
              "    [theme=dark] .colab-df-convert {\n",
              "      background-color: #3B4455;\n",
              "      fill: #D2E3FC;\n",
              "    }\n",
              "\n",
              "    [theme=dark] .colab-df-convert:hover {\n",
              "      background-color: #434B5C;\n",
              "      box-shadow: 0px 1px 3px 1px rgba(0, 0, 0, 0.15);\n",
              "      filter: drop-shadow(0px 1px 2px rgba(0, 0, 0, 0.3));\n",
              "      fill: #FFFFFF;\n",
              "    }\n",
              "  </style>\n",
              "\n",
              "      <script>\n",
              "        const buttonEl =\n",
              "          document.querySelector('#df-e097b1da-a0aa-423f-91fc-e81de735befe button.colab-df-convert');\n",
              "        buttonEl.style.display =\n",
              "          google.colab.kernel.accessAllowed ? 'block' : 'none';\n",
              "\n",
              "        async function convertToInteractive(key) {\n",
              "          const element = document.querySelector('#df-e097b1da-a0aa-423f-91fc-e81de735befe');\n",
              "          const dataTable =\n",
              "            await google.colab.kernel.invokeFunction('convertToInteractive',\n",
              "                                                     [key], {});\n",
              "          if (!dataTable) return;\n",
              "\n",
              "          const docLinkHtml = 'Like what you see? Visit the ' +\n",
              "            '<a target=\"_blank\" href=https://colab.research.google.com/notebooks/data_table.ipynb>data table notebook</a>'\n",
              "            + ' to learn more about interactive tables.';\n",
              "          element.innerHTML = '';\n",
              "          dataTable['output_type'] = 'display_data';\n",
              "          await google.colab.output.renderOutput(dataTable, element);\n",
              "          const docLink = document.createElement('div');\n",
              "          docLink.innerHTML = docLinkHtml;\n",
              "          element.appendChild(docLink);\n",
              "        }\n",
              "      </script>\n",
              "    </div>\n",
              "  </div>\n",
              "  "
            ]
          },
          "metadata": {},
          "execution_count": 6
        }
      ],
      "source": [
        "#Membaca Dataset\n",
        "datacustel = pd.read_csv('/content/drive/MyDrive/PROJEK AKHIR/APP/DATASET/telco_dataset.csv')\n",
        "datacustel.head()"
      ]
    },
    {
      "cell_type": "markdown",
      "metadata": {
        "id": "TrrZPfYjNdxM"
      },
      "source": [
        "#3.DATA EXPLORATION"
      ]
    },
    {
      "cell_type": "markdown",
      "source": [
        "##a. Mengecek Missing Value"
      ],
      "metadata": {
        "id": "9hazTOHg8K5B"
      }
    },
    {
      "cell_type": "markdown",
      "source": [
        "cat : tidak ada missing value"
      ],
      "metadata": {
        "id": "b5BMkw9N_eG1"
      }
    },
    {
      "cell_type": "code",
      "source": [
        "# Mengecek Mising value\n",
        "datacustel.isnull().sum()"
      ],
      "metadata": {
        "colab": {
          "base_uri": "https://localhost:8080/"
        },
        "id": "WWR4eskXyNCQ",
        "outputId": "8c8c830e-a1b7-4f88-a8f1-bf2ce2286efa"
      },
      "execution_count": null,
      "outputs": [
        {
          "output_type": "execute_result",
          "data": {
            "text/plain": [
              "UpdatedAt           0\n",
              "customerID          0\n",
              "gender              0\n",
              "SeniorCitizen       0\n",
              "Partner             0\n",
              "tenure              0\n",
              "PhoneService        0\n",
              "StreamingTV         0\n",
              "InternetService     0\n",
              "PaperlessBilling    0\n",
              "MonthlyCharges      0\n",
              "TotalCharges        0\n",
              "Churn               0\n",
              "dtype: int64"
            ]
          },
          "metadata": {},
          "execution_count": 7
        }
      ]
    },
    {
      "cell_type": "markdown",
      "source": [
        "##b. Mengecek Outlier sekaligus menangani outlier"
      ],
      "metadata": {
        "id": "6zt_ZAwF8WsO"
      }
    },
    {
      "cell_type": "code",
      "source": [
        "import matplotlib.pyplot as plt #import matplotlib untuk visualisasi plot\n",
        "import seaborn as sns #import seaborn untuk membuat grafik dan statistik dengan menggunakan Python"
      ],
      "metadata": {
        "id": "bsxDyxGpyjym"
      },
      "execution_count": null,
      "outputs": []
    },
    {
      "cell_type": "code",
      "source": [
        "# Menampilkan statistik dari dataset\n",
        "datacustel.describe(include='all')"
      ],
      "metadata": {
        "colab": {
          "base_uri": "https://localhost:8080/",
          "height": 458
        },
        "id": "Navbbfprympr",
        "outputId": "66ec11b3-953b-415b-da53-abdfbb950063"
      },
      "execution_count": null,
      "outputs": [
        {
          "output_type": "execute_result",
          "data": {
            "text/plain": [
              "        UpdatedAt    customerID gender SeniorCitizen Partner       tenure  \\\n",
              "count      6950.0  6.950000e+03   6950          6950    6950  6950.000000   \n",
              "unique        NaN           NaN      2             2       2          NaN   \n",
              "top           NaN           NaN   Male            No      No          NaN   \n",
              "freq          NaN           NaN   3505          5822    3591          NaN   \n",
              "mean     202006.0  4.549898e+10    NaN           NaN     NaN    32.423165   \n",
              "std           0.0  2.854091e+08    NaN           NaN     NaN    24.581073   \n",
              "min      202006.0  4.500026e+10    NaN           NaN     NaN     0.000000   \n",
              "25%      202006.0  4.525607e+10    NaN           NaN     NaN     9.000000   \n",
              "50%      202006.0  4.549871e+10    NaN           NaN     NaN    29.000000   \n",
              "75%      202006.0  4.574384e+10    NaN           NaN     NaN    55.000000   \n",
              "max      202006.0  4.599959e+10    NaN           NaN     NaN   124.000000   \n",
              "\n",
              "       PhoneService StreamingTV InternetService PaperlessBilling  \\\n",
              "count          6950        6950            6950             6950   \n",
              "unique            2           2               2                2   \n",
              "top             Yes          No             Yes              Yes   \n",
              "freq           6281        4279            5445             4114   \n",
              "mean            NaN         NaN             NaN              NaN   \n",
              "std             NaN         NaN             NaN              NaN   \n",
              "min             NaN         NaN             NaN              NaN   \n",
              "25%             NaN         NaN             NaN              NaN   \n",
              "50%             NaN         NaN             NaN              NaN   \n",
              "75%             NaN         NaN             NaN              NaN   \n",
              "max             NaN         NaN             NaN              NaN   \n",
              "\n",
              "        MonthlyCharges  TotalCharges Churn  \n",
              "count      6950.000000   6950.000000  6950  \n",
              "unique             NaN           NaN     2  \n",
              "top                NaN           NaN    No  \n",
              "freq               NaN           NaN  5114  \n",
              "mean         64.992201   2286.058750   NaN  \n",
              "std          30.032040   2265.702553   NaN  \n",
              "min           0.000000     19.000000   NaN  \n",
              "25%          36.462500    406.975000   NaN  \n",
              "50%          70.450000   1400.850000   NaN  \n",
              "75%          89.850000   3799.837500   NaN  \n",
              "max         169.931250   8889.131250   NaN  "
            ],
            "text/html": [
              "\n",
              "  <div id=\"df-b0b56210-4444-4c2d-a9c5-6ccbcb013dc3\">\n",
              "    <div class=\"colab-df-container\">\n",
              "      <div>\n",
              "<style scoped>\n",
              "    .dataframe tbody tr th:only-of-type {\n",
              "        vertical-align: middle;\n",
              "    }\n",
              "\n",
              "    .dataframe tbody tr th {\n",
              "        vertical-align: top;\n",
              "    }\n",
              "\n",
              "    .dataframe thead th {\n",
              "        text-align: right;\n",
              "    }\n",
              "</style>\n",
              "<table border=\"1\" class=\"dataframe\">\n",
              "  <thead>\n",
              "    <tr style=\"text-align: right;\">\n",
              "      <th></th>\n",
              "      <th>UpdatedAt</th>\n",
              "      <th>customerID</th>\n",
              "      <th>gender</th>\n",
              "      <th>SeniorCitizen</th>\n",
              "      <th>Partner</th>\n",
              "      <th>tenure</th>\n",
              "      <th>PhoneService</th>\n",
              "      <th>StreamingTV</th>\n",
              "      <th>InternetService</th>\n",
              "      <th>PaperlessBilling</th>\n",
              "      <th>MonthlyCharges</th>\n",
              "      <th>TotalCharges</th>\n",
              "      <th>Churn</th>\n",
              "    </tr>\n",
              "  </thead>\n",
              "  <tbody>\n",
              "    <tr>\n",
              "      <th>count</th>\n",
              "      <td>6950.0</td>\n",
              "      <td>6.950000e+03</td>\n",
              "      <td>6950</td>\n",
              "      <td>6950</td>\n",
              "      <td>6950</td>\n",
              "      <td>6950.000000</td>\n",
              "      <td>6950</td>\n",
              "      <td>6950</td>\n",
              "      <td>6950</td>\n",
              "      <td>6950</td>\n",
              "      <td>6950.000000</td>\n",
              "      <td>6950.000000</td>\n",
              "      <td>6950</td>\n",
              "    </tr>\n",
              "    <tr>\n",
              "      <th>unique</th>\n",
              "      <td>NaN</td>\n",
              "      <td>NaN</td>\n",
              "      <td>2</td>\n",
              "      <td>2</td>\n",
              "      <td>2</td>\n",
              "      <td>NaN</td>\n",
              "      <td>2</td>\n",
              "      <td>2</td>\n",
              "      <td>2</td>\n",
              "      <td>2</td>\n",
              "      <td>NaN</td>\n",
              "      <td>NaN</td>\n",
              "      <td>2</td>\n",
              "    </tr>\n",
              "    <tr>\n",
              "      <th>top</th>\n",
              "      <td>NaN</td>\n",
              "      <td>NaN</td>\n",
              "      <td>Male</td>\n",
              "      <td>No</td>\n",
              "      <td>No</td>\n",
              "      <td>NaN</td>\n",
              "      <td>Yes</td>\n",
              "      <td>No</td>\n",
              "      <td>Yes</td>\n",
              "      <td>Yes</td>\n",
              "      <td>NaN</td>\n",
              "      <td>NaN</td>\n",
              "      <td>No</td>\n",
              "    </tr>\n",
              "    <tr>\n",
              "      <th>freq</th>\n",
              "      <td>NaN</td>\n",
              "      <td>NaN</td>\n",
              "      <td>3505</td>\n",
              "      <td>5822</td>\n",
              "      <td>3591</td>\n",
              "      <td>NaN</td>\n",
              "      <td>6281</td>\n",
              "      <td>4279</td>\n",
              "      <td>5445</td>\n",
              "      <td>4114</td>\n",
              "      <td>NaN</td>\n",
              "      <td>NaN</td>\n",
              "      <td>5114</td>\n",
              "    </tr>\n",
              "    <tr>\n",
              "      <th>mean</th>\n",
              "      <td>202006.0</td>\n",
              "      <td>4.549898e+10</td>\n",
              "      <td>NaN</td>\n",
              "      <td>NaN</td>\n",
              "      <td>NaN</td>\n",
              "      <td>32.423165</td>\n",
              "      <td>NaN</td>\n",
              "      <td>NaN</td>\n",
              "      <td>NaN</td>\n",
              "      <td>NaN</td>\n",
              "      <td>64.992201</td>\n",
              "      <td>2286.058750</td>\n",
              "      <td>NaN</td>\n",
              "    </tr>\n",
              "    <tr>\n",
              "      <th>std</th>\n",
              "      <td>0.0</td>\n",
              "      <td>2.854091e+08</td>\n",
              "      <td>NaN</td>\n",
              "      <td>NaN</td>\n",
              "      <td>NaN</td>\n",
              "      <td>24.581073</td>\n",
              "      <td>NaN</td>\n",
              "      <td>NaN</td>\n",
              "      <td>NaN</td>\n",
              "      <td>NaN</td>\n",
              "      <td>30.032040</td>\n",
              "      <td>2265.702553</td>\n",
              "      <td>NaN</td>\n",
              "    </tr>\n",
              "    <tr>\n",
              "      <th>min</th>\n",
              "      <td>202006.0</td>\n",
              "      <td>4.500026e+10</td>\n",
              "      <td>NaN</td>\n",
              "      <td>NaN</td>\n",
              "      <td>NaN</td>\n",
              "      <td>0.000000</td>\n",
              "      <td>NaN</td>\n",
              "      <td>NaN</td>\n",
              "      <td>NaN</td>\n",
              "      <td>NaN</td>\n",
              "      <td>0.000000</td>\n",
              "      <td>19.000000</td>\n",
              "      <td>NaN</td>\n",
              "    </tr>\n",
              "    <tr>\n",
              "      <th>25%</th>\n",
              "      <td>202006.0</td>\n",
              "      <td>4.525607e+10</td>\n",
              "      <td>NaN</td>\n",
              "      <td>NaN</td>\n",
              "      <td>NaN</td>\n",
              "      <td>9.000000</td>\n",
              "      <td>NaN</td>\n",
              "      <td>NaN</td>\n",
              "      <td>NaN</td>\n",
              "      <td>NaN</td>\n",
              "      <td>36.462500</td>\n",
              "      <td>406.975000</td>\n",
              "      <td>NaN</td>\n",
              "    </tr>\n",
              "    <tr>\n",
              "      <th>50%</th>\n",
              "      <td>202006.0</td>\n",
              "      <td>4.549871e+10</td>\n",
              "      <td>NaN</td>\n",
              "      <td>NaN</td>\n",
              "      <td>NaN</td>\n",
              "      <td>29.000000</td>\n",
              "      <td>NaN</td>\n",
              "      <td>NaN</td>\n",
              "      <td>NaN</td>\n",
              "      <td>NaN</td>\n",
              "      <td>70.450000</td>\n",
              "      <td>1400.850000</td>\n",
              "      <td>NaN</td>\n",
              "    </tr>\n",
              "    <tr>\n",
              "      <th>75%</th>\n",
              "      <td>202006.0</td>\n",
              "      <td>4.574384e+10</td>\n",
              "      <td>NaN</td>\n",
              "      <td>NaN</td>\n",
              "      <td>NaN</td>\n",
              "      <td>55.000000</td>\n",
              "      <td>NaN</td>\n",
              "      <td>NaN</td>\n",
              "      <td>NaN</td>\n",
              "      <td>NaN</td>\n",
              "      <td>89.850000</td>\n",
              "      <td>3799.837500</td>\n",
              "      <td>NaN</td>\n",
              "    </tr>\n",
              "    <tr>\n",
              "      <th>max</th>\n",
              "      <td>202006.0</td>\n",
              "      <td>4.599959e+10</td>\n",
              "      <td>NaN</td>\n",
              "      <td>NaN</td>\n",
              "      <td>NaN</td>\n",
              "      <td>124.000000</td>\n",
              "      <td>NaN</td>\n",
              "      <td>NaN</td>\n",
              "      <td>NaN</td>\n",
              "      <td>NaN</td>\n",
              "      <td>169.931250</td>\n",
              "      <td>8889.131250</td>\n",
              "      <td>NaN</td>\n",
              "    </tr>\n",
              "  </tbody>\n",
              "</table>\n",
              "</div>\n",
              "      <button class=\"colab-df-convert\" onclick=\"convertToInteractive('df-b0b56210-4444-4c2d-a9c5-6ccbcb013dc3')\"\n",
              "              title=\"Convert this dataframe to an interactive table.\"\n",
              "              style=\"display:none;\">\n",
              "        \n",
              "  <svg xmlns=\"http://www.w3.org/2000/svg\" height=\"24px\"viewBox=\"0 0 24 24\"\n",
              "       width=\"24px\">\n",
              "    <path d=\"M0 0h24v24H0V0z\" fill=\"none\"/>\n",
              "    <path d=\"M18.56 5.44l.94 2.06.94-2.06 2.06-.94-2.06-.94-.94-2.06-.94 2.06-2.06.94zm-11 1L8.5 8.5l.94-2.06 2.06-.94-2.06-.94L8.5 2.5l-.94 2.06-2.06.94zm10 10l.94 2.06.94-2.06 2.06-.94-2.06-.94-.94-2.06-.94 2.06-2.06.94z\"/><path d=\"M17.41 7.96l-1.37-1.37c-.4-.4-.92-.59-1.43-.59-.52 0-1.04.2-1.43.59L10.3 9.45l-7.72 7.72c-.78.78-.78 2.05 0 2.83L4 21.41c.39.39.9.59 1.41.59.51 0 1.02-.2 1.41-.59l7.78-7.78 2.81-2.81c.8-.78.8-2.07 0-2.86zM5.41 20L4 18.59l7.72-7.72 1.47 1.35L5.41 20z\"/>\n",
              "  </svg>\n",
              "      </button>\n",
              "      \n",
              "  <style>\n",
              "    .colab-df-container {\n",
              "      display:flex;\n",
              "      flex-wrap:wrap;\n",
              "      gap: 12px;\n",
              "    }\n",
              "\n",
              "    .colab-df-convert {\n",
              "      background-color: #E8F0FE;\n",
              "      border: none;\n",
              "      border-radius: 50%;\n",
              "      cursor: pointer;\n",
              "      display: none;\n",
              "      fill: #1967D2;\n",
              "      height: 32px;\n",
              "      padding: 0 0 0 0;\n",
              "      width: 32px;\n",
              "    }\n",
              "\n",
              "    .colab-df-convert:hover {\n",
              "      background-color: #E2EBFA;\n",
              "      box-shadow: 0px 1px 2px rgba(60, 64, 67, 0.3), 0px 1px 3px 1px rgba(60, 64, 67, 0.15);\n",
              "      fill: #174EA6;\n",
              "    }\n",
              "\n",
              "    [theme=dark] .colab-df-convert {\n",
              "      background-color: #3B4455;\n",
              "      fill: #D2E3FC;\n",
              "    }\n",
              "\n",
              "    [theme=dark] .colab-df-convert:hover {\n",
              "      background-color: #434B5C;\n",
              "      box-shadow: 0px 1px 3px 1px rgba(0, 0, 0, 0.15);\n",
              "      filter: drop-shadow(0px 1px 2px rgba(0, 0, 0, 0.3));\n",
              "      fill: #FFFFFF;\n",
              "    }\n",
              "  </style>\n",
              "\n",
              "      <script>\n",
              "        const buttonEl =\n",
              "          document.querySelector('#df-b0b56210-4444-4c2d-a9c5-6ccbcb013dc3 button.colab-df-convert');\n",
              "        buttonEl.style.display =\n",
              "          google.colab.kernel.accessAllowed ? 'block' : 'none';\n",
              "\n",
              "        async function convertToInteractive(key) {\n",
              "          const element = document.querySelector('#df-b0b56210-4444-4c2d-a9c5-6ccbcb013dc3');\n",
              "          const dataTable =\n",
              "            await google.colab.kernel.invokeFunction('convertToInteractive',\n",
              "                                                     [key], {});\n",
              "          if (!dataTable) return;\n",
              "\n",
              "          const docLinkHtml = 'Like what you see? Visit the ' +\n",
              "            '<a target=\"_blank\" href=https://colab.research.google.com/notebooks/data_table.ipynb>data table notebook</a>'\n",
              "            + ' to learn more about interactive tables.';\n",
              "          element.innerHTML = '';\n",
              "          dataTable['output_type'] = 'display_data';\n",
              "          await google.colab.output.renderOutput(dataTable, element);\n",
              "          const docLink = document.createElement('div');\n",
              "          docLink.innerHTML = docLinkHtml;\n",
              "          element.appendChild(docLink);\n",
              "        }\n",
              "      </script>\n",
              "    </div>\n",
              "  </div>\n",
              "  "
            ]
          },
          "metadata": {},
          "execution_count": 9
        }
      ]
    },
    {
      "cell_type": "markdown",
      "source": [
        "Cat : Nan(karena bentuk nya kategorikal string), maka yang dicek hanya kolom tenure, monthly charges, dan total charges"
      ],
      "metadata": {
        "id": "brLbe2Fc_8jk"
      }
    },
    {
      "cell_type": "code",
      "source": [
        "# memeriksa outlier pada kolom tenure\n",
        "sns.boxplot(datacustel['tenure'])\n",
        "plt.show()"
      ],
      "metadata": {
        "colab": {
          "base_uri": "https://localhost:8080/",
          "height": 279
        },
        "id": "8PDmFWjWzPFe",
        "outputId": "42a4e2a8-68de-49b8-e9a5-28d1bf3f6265"
      },
      "execution_count": null,
      "outputs": [
        {
          "output_type": "display_data",
          "data": {
            "text/plain": [
              "<Figure size 432x288 with 1 Axes>"
            ],
            "image/png": "[encoded data removed]"
          },
          "metadata": {
            "needs_background": "light"
          }
        }
      ]
    },
    {
      "cell_type": "markdown",
      "source": [
        "Cat : Terdapat outlier pada kolom monthly charges"
      ],
      "metadata": {
        "id": "7hJOp0ab9G79"
      }
    },
    {
      "cell_type": "code",
      "source": [
        "# memeriksa outlier pada kolom MonthlyCharges\n",
        "sns.boxplot(datacustel['MonthlyCharges'])\n",
        "plt.show()"
      ],
      "metadata": {
        "colab": {
          "base_uri": "https://localhost:8080/",
          "height": 279
        },
        "id": "RsYC-yt_zDrA",
        "outputId": "c5989b03-99a5-43ff-c747-e89387709c64"
      },
      "execution_count": null,
      "outputs": [
        {
          "output_type": "display_data",
          "data": {
            "text/plain": [
              "<Figure size 432x288 with 1 Axes>"
            ],
            "image/png": "[encoded data removed]"
          },
          "metadata": {
            "needs_background": "light"
          }
        }
      ]
    },
    {
      "cell_type": "code",
      "source": [
        "# memeriksa outlier pada kolom TotalCharges\n",
        "sns.boxplot(datacustel['TotalCharges'])\n",
        "plt.show()"
      ],
      "metadata": {
        "colab": {
          "base_uri": "https://localhost:8080/",
          "height": 279
        },
        "id": "5laJEPr7zeeP",
        "outputId": "c5c5637b-c81c-4b00-fc84-fd74d34e0ecb"
      },
      "execution_count": null,
      "outputs": [
        {
          "output_type": "display_data",
          "data": {
            "text/plain": [
              "<Figure size 432x288 with 1 Axes>"
            ],
            "image/png": "[encoded data removed]"
          },
          "metadata": {
            "needs_background": "light"
          }
        }
      ]
    },
    {
      "cell_type": "code",
      "source": [
        "import numpy as np #import numpy untuk ndarry\n",
        "from scipy import stats #import scipy untuk perhitungan stats zsocre"
      ],
      "metadata": {
        "id": "gxFRidPC0h5_"
      },
      "execution_count": null,
      "outputs": []
    },
    {
      "cell_type": "markdown",
      "source": [
        "Cat : mengangani outlier dengan cara hanya mengambil nilai zscore dari datanya dibawah 3, jika diatas 3 maka tidak diambil."
      ],
      "metadata": {
        "id": "tZBwCHbFDRu3"
      }
    },
    {
      "cell_type": "code",
      "source": [
        "#kolom yang terdapat outlier\n",
        "kolom_numerik = ['MonthlyCharges']\n",
        "#pemebersihan outlier\n",
        "datacustel = datacustel[(np.abs(stats.zscore(datacustel[kolom_numerik])) < 3).all(axis=1)]\n",
        "\n",
        "# ukuran dataset setelah pemebersihan outlier\n",
        "datacustel.shape"
      ],
      "metadata": {
        "colab": {
          "base_uri": "https://localhost:8080/"
        },
        "id": "-cEeNoqK0EFl",
        "outputId": "8bcedf40-0de5-467b-d9b3-e06d35f2c839"
      },
      "execution_count": null,
      "outputs": [
        {
          "output_type": "execute_result",
          "data": {
            "text/plain": [
              "(6947, 13)"
            ]
          },
          "metadata": {},
          "execution_count": 14
        }
      ]
    },
    {
      "cell_type": "code",
      "source": [
        "#kolom monthly charges setelah pembersihan outlier\n",
        "sns.boxplot(datacustel['MonthlyCharges'])\n",
        "plt.show()"
      ],
      "metadata": {
        "colab": {
          "base_uri": "https://localhost:8080/",
          "height": 279
        },
        "id": "4UKiHuLVCl66",
        "outputId": "511f6e3f-bebe-4192-9120-7d32d097d4b7"
      },
      "execution_count": null,
      "outputs": [
        {
          "output_type": "display_data",
          "data": {
            "text/plain": [
              "<Figure size 432x288 with 1 Axes>"
            ],
            "image/png": "[encoded data removed]"
          },
          "metadata": {
            "needs_background": "light"
          }
        }
      ]
    },
    {
      "cell_type": "code",
      "source": [
        "#pengecekan nilai Z-Score setelah pembersihan outlier/data zscore nya yang diambil kurang dari 3\n",
        "np.abs(stats.zscore(datacustel[kolom_numerik]))"
      ],
      "metadata": {
        "colab": {
          "base_uri": "https://localhost:8080/",
          "height": 424
        },
        "id": "S-CtCAg4AjJG",
        "outputId": "8e56b956-3e59-41c1-cc5f-7a5608b6d55d"
      },
      "execution_count": null,
      "outputs": [
        {
          "output_type": "execute_result",
          "data": {
            "text/plain": [
              "      MonthlyCharges\n",
              "0           1.171573\n",
              "1           1.483686\n",
              "2           1.306975\n",
              "3           1.687519\n",
              "4           0.544216\n",
              "...              ...\n",
              "6945        0.674194\n",
              "6946        0.173686\n",
              "6947        0.687755\n",
              "6948        1.742598\n",
              "6949        1.145076\n",
              "\n",
              "[6947 rows x 1 columns]"
            ],
            "text/html": [
              "\n",
              "  <div id=\"df-65860527-6528-497a-857b-7b7a7d7bfa4a\">\n",
              "    <div class=\"colab-df-container\">\n",
              "      <div>\n",
              "<style scoped>\n",
              "    .dataframe tbody tr th:only-of-type {\n",
              "        vertical-align: middle;\n",
              "    }\n",
              "\n",
              "    .dataframe tbody tr th {\n",
              "        vertical-align: top;\n",
              "    }\n",
              "\n",
              "    .dataframe thead th {\n",
              "        text-align: right;\n",
              "    }\n",
              "</style>\n",
              "<table border=\"1\" class=\"dataframe\">\n",
              "  <thead>\n",
              "    <tr style=\"text-align: right;\">\n",
              "      <th></th>\n",
              "      <th>MonthlyCharges</th>\n",
              "    </tr>\n",
              "  </thead>\n",
              "  <tbody>\n",
              "    <tr>\n",
              "      <th>0</th>\n",
              "      <td>1.171573</td>\n",
              "    </tr>\n",
              "    <tr>\n",
              "      <th>1</th>\n",
              "      <td>1.483686</td>\n",
              "    </tr>\n",
              "    <tr>\n",
              "      <th>2</th>\n",
              "      <td>1.306975</td>\n",
              "    </tr>\n",
              "    <tr>\n",
              "      <th>3</th>\n",
              "      <td>1.687519</td>\n",
              "    </tr>\n",
              "    <tr>\n",
              "      <th>4</th>\n",
              "      <td>0.544216</td>\n",
              "    </tr>\n",
              "    <tr>\n",
              "      <th>...</th>\n",
              "      <td>...</td>\n",
              "    </tr>\n",
              "    <tr>\n",
              "      <th>6945</th>\n",
              "      <td>0.674194</td>\n",
              "    </tr>\n",
              "    <tr>\n",
              "      <th>6946</th>\n",
              "      <td>0.173686</td>\n",
              "    </tr>\n",
              "    <tr>\n",
              "      <th>6947</th>\n",
              "      <td>0.687755</td>\n",
              "    </tr>\n",
              "    <tr>\n",
              "      <th>6948</th>\n",
              "      <td>1.742598</td>\n",
              "    </tr>\n",
              "    <tr>\n",
              "      <th>6949</th>\n",
              "      <td>1.145076</td>\n",
              "    </tr>\n",
              "  </tbody>\n",
              "</table>\n",
              "<p>6947 rows × 1 columns</p>\n",
              "</div>\n",
              "      <button class=\"colab-df-convert\" onclick=\"convertToInteractive('df-65860527-6528-497a-857b-7b7a7d7bfa4a')\"\n",
              "              title=\"Convert this dataframe to an interactive table.\"\n",
              "              style=\"display:none;\">\n",
              "        \n",
              "  <svg xmlns=\"http://www.w3.org/2000/svg\" height=\"24px\"viewBox=\"0 0 24 24\"\n",
              "       width=\"24px\">\n",
              "    <path d=\"M0 0h24v24H0V0z\" fill=\"none\"/>\n",
              "    <path d=\"M18.56 5.44l.94 2.06.94-2.06 2.06-.94-2.06-.94-.94-2.06-.94 2.06-2.06.94zm-11 1L8.5 8.5l.94-2.06 2.06-.94-2.06-.94L8.5 2.5l-.94 2.06-2.06.94zm10 10l.94 2.06.94-2.06 2.06-.94-2.06-.94-.94-2.06-.94 2.06-2.06.94z\"/><path d=\"M17.41 7.96l-1.37-1.37c-.4-.4-.92-.59-1.43-.59-.52 0-1.04.2-1.43.59L10.3 9.45l-7.72 7.72c-.78.78-.78 2.05 0 2.83L4 21.41c.39.39.9.59 1.41.59.51 0 1.02-.2 1.41-.59l7.78-7.78 2.81-2.81c.8-.78.8-2.07 0-2.86zM5.41 20L4 18.59l7.72-7.72 1.47 1.35L5.41 20z\"/>\n",
              "  </svg>\n",
              "      </button>\n",
              "      \n",
              "  <style>\n",
              "    .colab-df-container {\n",
              "      display:flex;\n",
              "      flex-wrap:wrap;\n",
              "      gap: 12px;\n",
              "    }\n",
              "\n",
              "    .colab-df-convert {\n",
              "      background-color: #E8F0FE;\n",
              "      border: none;\n",
              "      border-radius: 50%;\n",
              "      cursor: pointer;\n",
              "      display: none;\n",
              "      fill: #1967D2;\n",
              "      height: 32px;\n",
              "      padding: 0 0 0 0;\n",
              "      width: 32px;\n",
              "    }\n",
              "\n",
              "    .colab-df-convert:hover {\n",
              "      background-color: #E2EBFA;\n",
              "      box-shadow: 0px 1px 2px rgba(60, 64, 67, 0.3), 0px 1px 3px 1px rgba(60, 64, 67, 0.15);\n",
              "      fill: #174EA6;\n",
              "    }\n",
              "\n",
              "    [theme=dark] .colab-df-convert {\n",
              "      background-color: #3B4455;\n",
              "      fill: #D2E3FC;\n",
              "    }\n",
              "\n",
              "    [theme=dark] .colab-df-convert:hover {\n",
              "      background-color: #434B5C;\n",
              "      box-shadow: 0px 1px 3px 1px rgba(0, 0, 0, 0.15);\n",
              "      filter: drop-shadow(0px 1px 2px rgba(0, 0, 0, 0.3));\n",
              "      fill: #FFFFFF;\n",
              "    }\n",
              "  </style>\n",
              "\n",
              "      <script>\n",
              "        const buttonEl =\n",
              "          document.querySelector('#df-65860527-6528-497a-857b-7b7a7d7bfa4a button.colab-df-convert');\n",
              "        buttonEl.style.display =\n",
              "          google.colab.kernel.accessAllowed ? 'block' : 'none';\n",
              "\n",
              "        async function convertToInteractive(key) {\n",
              "          const element = document.querySelector('#df-65860527-6528-497a-857b-7b7a7d7bfa4a');\n",
              "          const dataTable =\n",
              "            await google.colab.kernel.invokeFunction('convertToInteractive',\n",
              "                                                     [key], {});\n",
              "          if (!dataTable) return;\n",
              "\n",
              "          const docLinkHtml = 'Like what you see? Visit the ' +\n",
              "            '<a target=\"_blank\" href=https://colab.research.google.com/notebooks/data_table.ipynb>data table notebook</a>'\n",
              "            + ' to learn more about interactive tables.';\n",
              "          element.innerHTML = '';\n",
              "          dataTable['output_type'] = 'display_data';\n",
              "          await google.colab.output.renderOutput(dataTable, element);\n",
              "          const docLink = document.createElement('div');\n",
              "          docLink.innerHTML = docLinkHtml;\n",
              "          element.appendChild(docLink);\n",
              "        }\n",
              "      </script>\n",
              "    </div>\n",
              "  </div>\n",
              "  "
            ]
          },
          "metadata": {},
          "execution_count": 16
        }
      ]
    },
    {
      "cell_type": "markdown",
      "source": [
        "##c. Melakukan Label Encoding"
      ],
      "metadata": {
        "id": "uqooOQ5YFQv-"
      }
    },
    {
      "cell_type": "markdown",
      "source": [
        "Cat : Umumnya, model AI (Machine Learning dan Deep Learning) yang disediakan oleh library Python hanya menerima nilai numerik sebagai input. Kita akan mendapat pesan error jika kita mencoba meng-input nilai kategorik ke dalam model. Hal inilah yang menjadi alasan mengapa kita perlu mengubah kolom kategorik kita menjadi kolom numerik. sehingga kolom yang terdapat kategorik seperti gender, senior citizen, parter, streaming tv, internet service, papers billing dan churn yang awal nya male menjadi 0 dan female = 1, No = 0 dan Yes = 1."
      ],
      "metadata": {
        "id": "udLVO4lfFh3c"
      }
    },
    {
      "cell_type": "code",
      "execution_count": null,
      "metadata": {
        "id": "pB1a8FlG2UVo"
      },
      "outputs": [],
      "source": [
        "# label encoding secara manual dengan memanfaatkan fuction map()\n",
        "\n",
        "# kolom gender\n",
        "datacustel['gender'] = datacustel['gender'].map({'Male':0, 'Female':1})\n",
        "\n",
        "# kolom SeniorCitizen\n",
        "datacustel['SeniorCitizen'] = datacustel['SeniorCitizen'].map({'No':0, 'Yes':1})\n",
        "\n",
        "# kolom Partner\n",
        "datacustel['Partner'] = datacustel['Partner'].map({'No':0, 'Yes':1})\n",
        "\n",
        "# kolom PhoneService\n",
        "datacustel['PhoneService'] = datacustel['PhoneService'].map({'No':0, 'Yes':1})\n",
        "\n",
        "# kolom StreamingTV\n",
        "datacustel['StreamingTV'] = datacustel['StreamingTV'].map({'No':0, 'Yes':1})\n",
        "\n",
        "# kolom InternetService\n",
        "datacustel['InternetService'] = datacustel['InternetService'].map({'No':0, 'Yes':1})\n",
        "\n",
        "# kolom PaperlessBilling\n",
        "datacustel['PaperlessBilling'] = datacustel['PaperlessBilling'].map({'No':0, 'Yes':1})\n",
        "\n",
        "# kolomfitur Churn\n",
        "datacustel['Churn'] = datacustel['Churn'].map({'No':0, 'Yes':1})"
      ]
    },
    {
      "cell_type": "code",
      "execution_count": null,
      "metadata": {
        "colab": {
          "base_uri": "https://localhost:8080/",
          "height": 488
        },
        "id": "J2lrGurl4Eme",
        "outputId": "77731547-15b2-42b4-bbb1-bb16f7fcb3f8"
      },
      "outputs": [
        {
          "output_type": "execute_result",
          "data": {
            "text/plain": [
              "      UpdatedAt   customerID  gender  SeniorCitizen  Partner  tenure  \\\n",
              "0        202006  45759018157       1              0        1       1   \n",
              "1        202006  45315483266       0              0        1      60   \n",
              "2        202006  45236961615       0              0        0       5   \n",
              "3        202006  45929827382       1              0        1      72   \n",
              "4        202006  45305082233       1              0        1      56   \n",
              "...         ...          ...     ...            ...      ...     ...   \n",
              "6945     202006  45437311872       0              0        0       1   \n",
              "6946     202006  45184632574       1              1        0       1   \n",
              "6947     202006  45023517923       1              0        0       1   \n",
              "6948     202006  45665022680       1              0        1      72   \n",
              "6949     202006  45957014561       0              0        0      64   \n",
              "\n",
              "      PhoneService  StreamingTV  InternetService  PaperlessBilling  \\\n",
              "0                0            0                1                 1   \n",
              "1                1            0                0                 1   \n",
              "2                1            1                1                 0   \n",
              "3                1            1                1                 1   \n",
              "4                1            1                1                 0   \n",
              "...            ...          ...              ...               ...   \n",
              "6945             1            0                1                 1   \n",
              "6946             1            0                1                 1   \n",
              "6947             1            1                1                 1   \n",
              "6948             1            1                1                 1   \n",
              "6949             1            0                1                 0   \n",
              "\n",
              "      MonthlyCharges  TotalCharges  Churn  \n",
              "0              29.85         29.85      0  \n",
              "1              20.50       1198.80      0  \n",
              "2             104.10        541.90      1  \n",
              "3             115.50       8312.75      0  \n",
              "4              81.25       4620.40      0  \n",
              "...              ...           ...    ...  \n",
              "6945           44.75         44.75      0  \n",
              "6946           70.15         70.15      1  \n",
              "6947           85.55         85.55      1  \n",
              "6948          117.15       8529.50      0  \n",
              "6949           99.25       6549.45      0  \n",
              "\n",
              "[6947 rows x 13 columns]"
            ],
            "text/html": [
              "\n",
              "  <div id=\"df-c354e377-ab44-4a08-8aab-d1dd5ee5a22b\">\n",
              "    <div class=\"colab-df-container\">\n",
              "      <div>\n",
              "<style scoped>\n",
              "    .dataframe tbody tr th:only-of-type {\n",
              "        vertical-align: middle;\n",
              "    }\n",
              "\n",
              "    .dataframe tbody tr th {\n",
              "        vertical-align: top;\n",
              "    }\n",
              "\n",
              "    .dataframe thead th {\n",
              "        text-align: right;\n",
              "    }\n",
              "</style>\n",
              "<table border=\"1\" class=\"dataframe\">\n",
              "  <thead>\n",
              "    <tr style=\"text-align: right;\">\n",
              "      <th></th>\n",
              "      <th>UpdatedAt</th>\n",
              "      <th>customerID</th>\n",
              "      <th>gender</th>\n",
              "      <th>SeniorCitizen</th>\n",
              "      <th>Partner</th>\n",
              "      <th>tenure</th>\n",
              "      <th>PhoneService</th>\n",
              "      <th>StreamingTV</th>\n",
              "      <th>InternetService</th>\n",
              "      <th>PaperlessBilling</th>\n",
              "      <th>MonthlyCharges</th>\n",
              "      <th>TotalCharges</th>\n",
              "      <th>Churn</th>\n",
              "    </tr>\n",
              "  </thead>\n",
              "  <tbody>\n",
              "    <tr>\n",
              "      <th>0</th>\n",
              "      <td>202006</td>\n",
              "      <td>45759018157</td>\n",
              "      <td>1</td>\n",
              "      <td>0</td>\n",
              "      <td>1</td>\n",
              "      <td>1</td>\n",
              "      <td>0</td>\n",
              "      <td>0</td>\n",
              "      <td>1</td>\n",
              "      <td>1</td>\n",
              "      <td>29.85</td>\n",
              "      <td>29.85</td>\n",
              "      <td>0</td>\n",
              "    </tr>\n",
              "    <tr>\n",
              "      <th>1</th>\n",
              "      <td>202006</td>\n",
              "      <td>45315483266</td>\n",
              "      <td>0</td>\n",
              "      <td>0</td>\n",
              "      <td>1</td>\n",
              "      <td>60</td>\n",
              "      <td>1</td>\n",
              "      <td>0</td>\n",
              "      <td>0</td>\n",
              "      <td>1</td>\n",
              "      <td>20.50</td>\n",
              "      <td>1198.80</td>\n",
              "      <td>0</td>\n",
              "    </tr>\n",
              "    <tr>\n",
              "      <th>2</th>\n",
              "      <td>202006</td>\n",
              "      <td>45236961615</td>\n",
              "      <td>0</td>\n",
              "      <td>0</td>\n",
              "      <td>0</td>\n",
              "      <td>5</td>\n",
              "      <td>1</td>\n",
              "      <td>1</td>\n",
              "      <td>1</td>\n",
              "      <td>0</td>\n",
              "      <td>104.10</td>\n",
              "      <td>541.90</td>\n",
              "      <td>1</td>\n",
              "    </tr>\n",
              "    <tr>\n",
              "      <th>3</th>\n",
              "      <td>202006</td>\n",
              "      <td>45929827382</td>\n",
              "      <td>1</td>\n",
              "      <td>0</td>\n",
              "      <td>1</td>\n",
              "      <td>72</td>\n",
              "      <td>1</td>\n",
              "      <td>1</td>\n",
              "      <td>1</td>\n",
              "      <td>1</td>\n",
              "      <td>115.50</td>\n",
              "      <td>8312.75</td>\n",
              "      <td>0</td>\n",
              "    </tr>\n",
              "    <tr>\n",
              "      <th>4</th>\n",
              "      <td>202006</td>\n",
              "      <td>45305082233</td>\n",
              "      <td>1</td>\n",
              "      <td>0</td>\n",
              "      <td>1</td>\n",
              "      <td>56</td>\n",
              "      <td>1</td>\n",
              "      <td>1</td>\n",
              "      <td>1</td>\n",
              "      <td>0</td>\n",
              "      <td>81.25</td>\n",
              "      <td>4620.40</td>\n",
              "      <td>0</td>\n",
              "    </tr>\n",
              "    <tr>\n",
              "      <th>...</th>\n",
              "      <td>...</td>\n",
              "      <td>...</td>\n",
              "      <td>...</td>\n",
              "      <td>...</td>\n",
              "      <td>...</td>\n",
              "      <td>...</td>\n",
              "      <td>...</td>\n",
              "      <td>...</td>\n",
              "      <td>...</td>\n",
              "      <td>...</td>\n",
              "      <td>...</td>\n",
              "      <td>...</td>\n",
              "      <td>...</td>\n",
              "    </tr>\n",
              "    <tr>\n",
              "      <th>6945</th>\n",
              "      <td>202006</td>\n",
              "      <td>45437311872</td>\n",
              "      <td>0</td>\n",
              "      <td>0</td>\n",
              "      <td>0</td>\n",
              "      <td>1</td>\n",
              "      <td>1</td>\n",
              "      <td>0</td>\n",
              "      <td>1</td>\n",
              "      <td>1</td>\n",
              "      <td>44.75</td>\n",
              "      <td>44.75</td>\n",
              "      <td>0</td>\n",
              "    </tr>\n",
              "    <tr>\n",
              "      <th>6946</th>\n",
              "      <td>202006</td>\n",
              "      <td>45184632574</td>\n",
              "      <td>1</td>\n",
              "      <td>1</td>\n",
              "      <td>0</td>\n",
              "      <td>1</td>\n",
              "      <td>1</td>\n",
              "      <td>0</td>\n",
              "      <td>1</td>\n",
              "      <td>1</td>\n",
              "      <td>70.15</td>\n",
              "      <td>70.15</td>\n",
              "      <td>1</td>\n",
              "    </tr>\n",
              "    <tr>\n",
              "      <th>6947</th>\n",
              "      <td>202006</td>\n",
              "      <td>45023517923</td>\n",
              "      <td>1</td>\n",
              "      <td>0</td>\n",
              "      <td>0</td>\n",
              "      <td>1</td>\n",
              "      <td>1</td>\n",
              "      <td>1</td>\n",
              "      <td>1</td>\n",
              "      <td>1</td>\n",
              "      <td>85.55</td>\n",
              "      <td>85.55</td>\n",
              "      <td>1</td>\n",
              "    </tr>\n",
              "    <tr>\n",
              "      <th>6948</th>\n",
              "      <td>202006</td>\n",
              "      <td>45665022680</td>\n",
              "      <td>1</td>\n",
              "      <td>0</td>\n",
              "      <td>1</td>\n",
              "      <td>72</td>\n",
              "      <td>1</td>\n",
              "      <td>1</td>\n",
              "      <td>1</td>\n",
              "      <td>1</td>\n",
              "      <td>117.15</td>\n",
              "      <td>8529.50</td>\n",
              "      <td>0</td>\n",
              "    </tr>\n",
              "    <tr>\n",
              "      <th>6949</th>\n",
              "      <td>202006</td>\n",
              "      <td>45957014561</td>\n",
              "      <td>0</td>\n",
              "      <td>0</td>\n",
              "      <td>0</td>\n",
              "      <td>64</td>\n",
              "      <td>1</td>\n",
              "      <td>0</td>\n",
              "      <td>1</td>\n",
              "      <td>0</td>\n",
              "      <td>99.25</td>\n",
              "      <td>6549.45</td>\n",
              "      <td>0</td>\n",
              "    </tr>\n",
              "  </tbody>\n",
              "</table>\n",
              "<p>6947 rows × 13 columns</p>\n",
              "</div>\n",
              "      <button class=\"colab-df-convert\" onclick=\"convertToInteractive('df-c354e377-ab44-4a08-8aab-d1dd5ee5a22b')\"\n",
              "              title=\"Convert this dataframe to an interactive table.\"\n",
              "              style=\"display:none;\">\n",
              "        \n",
              "  <svg xmlns=\"http://www.w3.org/2000/svg\" height=\"24px\"viewBox=\"0 0 24 24\"\n",
              "       width=\"24px\">\n",
              "    <path d=\"M0 0h24v24H0V0z\" fill=\"none\"/>\n",
              "    <path d=\"M18.56 5.44l.94 2.06.94-2.06 2.06-.94-2.06-.94-.94-2.06-.94 2.06-2.06.94zm-11 1L8.5 8.5l.94-2.06 2.06-.94-2.06-.94L8.5 2.5l-.94 2.06-2.06.94zm10 10l.94 2.06.94-2.06 2.06-.94-2.06-.94-.94-2.06-.94 2.06-2.06.94z\"/><path d=\"M17.41 7.96l-1.37-1.37c-.4-.4-.92-.59-1.43-.59-.52 0-1.04.2-1.43.59L10.3 9.45l-7.72 7.72c-.78.78-.78 2.05 0 2.83L4 21.41c.39.39.9.59 1.41.59.51 0 1.02-.2 1.41-.59l7.78-7.78 2.81-2.81c.8-.78.8-2.07 0-2.86zM5.41 20L4 18.59l7.72-7.72 1.47 1.35L5.41 20z\"/>\n",
              "  </svg>\n",
              "      </button>\n",
              "      \n",
              "  <style>\n",
              "    .colab-df-container {\n",
              "      display:flex;\n",
              "      flex-wrap:wrap;\n",
              "      gap: 12px;\n",
              "    }\n",
              "\n",
              "    .colab-df-convert {\n",
              "      background-color: #E8F0FE;\n",
              "      border: none;\n",
              "      border-radius: 50%;\n",
              "      cursor: pointer;\n",
              "      display: none;\n",
              "      fill: #1967D2;\n",
              "      height: 32px;\n",
              "      padding: 0 0 0 0;\n",
              "      width: 32px;\n",
              "    }\n",
              "\n",
              "    .colab-df-convert:hover {\n",
              "      background-color: #E2EBFA;\n",
              "      box-shadow: 0px 1px 2px rgba(60, 64, 67, 0.3), 0px 1px 3px 1px rgba(60, 64, 67, 0.15);\n",
              "      fill: #174EA6;\n",
              "    }\n",
              "\n",
              "    [theme=dark] .colab-df-convert {\n",
              "      background-color: #3B4455;\n",
              "      fill: #D2E3FC;\n",
              "    }\n",
              "\n",
              "    [theme=dark] .colab-df-convert:hover {\n",
              "      background-color: #434B5C;\n",
              "      box-shadow: 0px 1px 3px 1px rgba(0, 0, 0, 0.15);\n",
              "      filter: drop-shadow(0px 1px 2px rgba(0, 0, 0, 0.3));\n",
              "      fill: #FFFFFF;\n",
              "    }\n",
              "  </style>\n",
              "\n",
              "      <script>\n",
              "        const buttonEl =\n",
              "          document.querySelector('#df-c354e377-ab44-4a08-8aab-d1dd5ee5a22b button.colab-df-convert');\n",
              "        buttonEl.style.display =\n",
              "          google.colab.kernel.accessAllowed ? 'block' : 'none';\n",
              "\n",
              "        async function convertToInteractive(key) {\n",
              "          const element = document.querySelector('#df-c354e377-ab44-4a08-8aab-d1dd5ee5a22b');\n",
              "          const dataTable =\n",
              "            await google.colab.kernel.invokeFunction('convertToInteractive',\n",
              "                                                     [key], {});\n",
              "          if (!dataTable) return;\n",
              "\n",
              "          const docLinkHtml = 'Like what you see? Visit the ' +\n",
              "            '<a target=\"_blank\" href=https://colab.research.google.com/notebooks/data_table.ipynb>data table notebook</a>'\n",
              "            + ' to learn more about interactive tables.';\n",
              "          element.innerHTML = '';\n",
              "          dataTable['output_type'] = 'display_data';\n",
              "          await google.colab.output.renderOutput(dataTable, element);\n",
              "          const docLink = document.createElement('div');\n",
              "          docLink.innerHTML = docLinkHtml;\n",
              "          element.appendChild(docLink);\n",
              "        }\n",
              "      </script>\n",
              "    </div>\n",
              "  </div>\n",
              "  "
            ]
          },
          "metadata": {},
          "execution_count": 18
        }
      ],
      "source": [
        "#menampilkan data yang sudah di mapping\n",
        "datacustel"
      ]
    },
    {
      "cell_type": "markdown",
      "source": [
        "##d. Menampilkan korelasi atau hubungan pada setiap kolom"
      ],
      "metadata": {
        "id": "Joq0OBCrHqQw"
      }
    },
    {
      "cell_type": "code",
      "source": [
        "#heamap korelasi setiap kolom\n",
        "plt.figure(figsize=(18,18))\n",
        "sns.heatmap(datacustel.corr(), annot=True)"
      ],
      "metadata": {
        "colab": {
          "base_uri": "https://localhost:8080/",
          "height": 957
        },
        "id": "lJYPhHtY7DDj",
        "outputId": "18ad5e8a-efec-4ac6-ea62-19c05b419386"
      },
      "execution_count": null,
      "outputs": [
        {
          "output_type": "execute_result",
          "data": {
            "text/plain": [
              "<matplotlib.axes._subplots.AxesSubplot at 0x7f2c77e80760>"
            ]
          },
          "metadata": {},
          "execution_count": 19
        },
        {
          "output_type": "display_data",
          "data": {
            "text/plain": [
              "<Figure size 1296x1296 with 2 Axes>"
            ],
            "image/png": "[encoded data removed]"
          },
          "metadata": {
            "needs_background": "light"
          }
        }
      ]
    },
    {
      "cell_type": "markdown",
      "source": [
        "##e. Memilih kolom/fitur yang akan ditraining"
      ],
      "metadata": {
        "id": "e1q8bONRH9mH"
      }
    },
    {
      "cell_type": "markdown",
      "source": [
        "Cat : Kolom yang penting yaitu pada kolom gender, pertner, seniorcitizen, tenure, phoneservice, streamingtv, internetservice, papersbiling, dan monthlycharges dan total charges"
      ],
      "metadata": {
        "id": "dx8n-DlpIGy4"
      }
    },
    {
      "cell_type": "code",
      "execution_count": null,
      "metadata": {
        "id": "LHG6H1VQNjV2"
      },
      "outputs": [],
      "source": [
        "#Slicing data atau pemilihan kolom\n",
        "X = datacustel.iloc[:, 2 : 12].values #var X dari gender sampai total charges\n",
        "Y = datacustel.iloc[:, - 1].values #var Y churn"
      ]
    },
    {
      "cell_type": "markdown",
      "source": [
        "##f. Mengecek data tidak seimbang/imbalancing data pada kolom churn(Y)"
      ],
      "metadata": {
        "id": "J4DdNBJqKQch"
      }
    },
    {
      "cell_type": "markdown",
      "source": [
        "Cat : class 0/No cenderung lebih banyak dari pada class 1/Yes, sehingga bisadikatakan tidak seimbang pada kolom churn nya"
      ],
      "metadata": {
        "id": "iM7VM7GFK8e8"
      }
    },
    {
      "cell_type": "code",
      "execution_count": null,
      "metadata": {
        "colab": {
          "base_uri": "https://localhost:8080/"
        },
        "id": "tEBjJ1IiS4ge",
        "outputId": "5564408a-d087-4227-ea72-b82f38bfff89"
      },
      "outputs": [
        {
          "output_type": "execute_result",
          "data": {
            "text/plain": [
              "(array([0, 1]), array([5111, 1836]))"
            ]
          },
          "metadata": {},
          "execution_count": 21
        }
      ],
      "source": [
        "#mengecek data fitur churn(Y)\n",
        "np.unique(Y, return_counts=True)"
      ]
    },
    {
      "cell_type": "markdown",
      "source": [
        " Cat : sehingga karena nantinya takut terdapat bias karena data tidak seimbang maka dilakuakan nya proses melakukan resample (undersampling atau oversampling) menggunakan"
      ],
      "metadata": {
        "id": "SF7sEVauLceW"
      }
    },
    {
      "cell_type": "markdown",
      "source": [
        "Cat : ovarsampling yang dilakuakn dengan bantuan module SMOTENC. Module SMONTEC"
      ],
      "metadata": {
        "id": "nSMCVieXMfEM"
      }
    },
    {
      "cell_type": "code",
      "execution_count": null,
      "metadata": {
        "id": "ed1izNeBTJLj"
      },
      "outputs": [],
      "source": [
        "#import SMOTENC\n",
        "from imblearn.over_sampling import SMOTENC"
      ]
    },
    {
      "cell_type": "code",
      "execution_count": null,
      "metadata": {
        "id": "Lu_tCKU3TKvZ",
        "colab": {
          "base_uri": "https://localhost:8080/",
          "height": 217
        },
        "outputId": "1ce80c9f-1e4c-436a-c99b-dfa991823c8a"
      },
      "outputs": [
        {
          "output_type": "stream",
          "name": "stdout",
          "text": [
            "SMOTEN(random_state=42)\n"
          ]
        },
        {
          "output_type": "error",
          "ename": "NameError",
          "evalue": "ignored",
          "traceback": [
            "\u001b[0;31m---------------------------------------------------------------------------\u001b[0m",
            "\u001b[0;31mNameError\u001b[0m                                 Traceback (most recent call last)",
            "\u001b[0;32m<ipython-input-3-be72fd3a0495>\u001b[0m in \u001b[0;36m<module>\u001b[0;34m\u001b[0m\n\u001b[1;32m      2\u001b[0m \u001b[0msm\u001b[0m \u001b[0;34m=\u001b[0m \u001b[0mSMOTEN\u001b[0m\u001b[0;34m(\u001b[0m\u001b[0mrandom_state\u001b[0m\u001b[0;34m=\u001b[0m\u001b[0;36m42\u001b[0m\u001b[0;34m)\u001b[0m\u001b[0;34m\u001b[0m\u001b[0;34m\u001b[0m\u001b[0m\n\u001b[1;32m      3\u001b[0m \u001b[0mprint\u001b[0m\u001b[0;34m(\u001b[0m\u001b[0msm\u001b[0m\u001b[0;34m)\u001b[0m\u001b[0;34m\u001b[0m\u001b[0;34m\u001b[0m\u001b[0m\n\u001b[0;32m----> 4\u001b[0;31m \u001b[0mX_res\u001b[0m\u001b[0;34m,\u001b[0m \u001b[0my_res\u001b[0m \u001b[0;34m=\u001b[0m \u001b[0msm\u001b[0m\u001b[0;34m.\u001b[0m\u001b[0mfit_resample\u001b[0m\u001b[0;34m(\u001b[0m\u001b[0mX\u001b[0m\u001b[0;34m,\u001b[0m \u001b[0mY\u001b[0m\u001b[0;34m)\u001b[0m\u001b[0;34m\u001b[0m\u001b[0;34m\u001b[0m\u001b[0m\n\u001b[0m",
            "\u001b[0;31mNameError\u001b[0m: name 'X' is not defined"
          ]
        }
      ],
      "source": [
        "#melakukan imbalancing data dengan Smotenc\n",
        "sm = SMOTENC(random_state=42, categorical_features=[2,3,4,6,7,8,9]) #kolom bertipe kategorikal seperti 'gender', 'SeniorCitizen', 'PhoneService', 'StreamingTV', 'InternetService', 'PaperlessBilling', 'MonthlyCharges'\n",
        "print(sm)\n",
        "X_res, y_res = sm.fit_resample(X, Y)"
      ]
    },
    {
      "cell_type": "markdown",
      "source": [
        "Cat : setelah dilakuakan penyimbangan class 0 dan 1 nya menjadi sama nilainya"
      ],
      "metadata": {
        "id": "UDCA_0JTNRli"
      }
    },
    {
      "cell_type": "code",
      "source": [
        "#setelah dilakukan nya balancing data penyeimbangan data\n",
        "np.unique(y_res, return_counts=True)"
      ],
      "metadata": {
        "colab": {
          "base_uri": "https://localhost:8080/"
        },
        "id": "zWo2sdIu172H",
        "outputId": "fe29faac-0cc6-4747-d9c1-519456f52734"
      },
      "execution_count": null,
      "outputs": [
        {
          "output_type": "execute_result",
          "data": {
            "text/plain": [
              "(array([0, 1]), array([5111, 5111]))"
            ]
          },
          "metadata": {},
          "execution_count": 24
        }
      ]
    },
    {
      "cell_type": "markdown",
      "source": [
        "##g. Standarisasi Data"
      ],
      "metadata": {
        "id": "A5LEvRCFQPZP"
      }
    },
    {
      "cell_type": "markdown",
      "source": [
        "Standarisai diperlukan menyeragamkan nilai-nilai pada data yang memungkinkan pemrosesan data yang efisien"
      ],
      "metadata": {
        "id": "ywfW-jPjR-zV"
      }
    },
    {
      "cell_type": "code",
      "source": [
        "#import standarscaler\n",
        "from sklearn.preprocessing import StandardScaler\n",
        "\n",
        "#scaler data\n",
        "scaler = StandardScaler()\n",
        "#training data scaler nya\n",
        "scaler = scaler.fit(X_res)\n",
        "#transofrm data scaler nya\n",
        "X = scaler.transform(X_res)\n",
        "print(X)"
      ],
      "metadata": {
        "colab": {
          "base_uri": "https://localhost:8080/"
        },
        "id": "W2NYi0coTAzb",
        "outputId": "a85fc12b-1e73-412f-d4bc-2e975f7ccd89"
      },
      "execution_count": null,
      "outputs": [
        {
          "output_type": "stream",
          "name": "stdout",
          "text": [
            "[[ 1.01379104 -0.49519558  1.11783713 ...  0.74333817 -1.34324427\n",
            "  -0.8891082 ]\n",
            " [-0.98639657 -0.49519558  1.11783713 ...  0.74333817 -1.67075589\n",
            "  -0.36151424]\n",
            " [-0.98639657 -0.49519558 -0.8945847  ... -1.34528272  1.25758334\n",
            "  -0.65799952]\n",
            " ...\n",
            " [ 1.01379104 -0.49519558 -0.8945847  ...  0.74333817  0.01584141\n",
            "  -0.75740717]\n",
            " [-0.98639657 -0.49519558 -0.8945847  ...  0.74333817  0.19798691\n",
            "  -0.87024219]\n",
            " [ 1.01379104 -0.49519558 -0.8945847  ...  0.74333817 -0.65844723\n",
            "  -0.82752285]]\n"
          ]
        }
      ]
    },
    {
      "cell_type": "markdown",
      "source": [
        "##h. Split Train Set & Test Set\n",
        "\n",
        "\n"
      ],
      "metadata": {
        "id": "vbEwOTpySN1u"
      }
    },
    {
      "cell_type": "markdown",
      "source": [
        "Pisahkan feature dan label, hasil oversampling, menjadi train set dan test set menggunakan module train_test_split.\n",
        "\n",
        "Pembagian train set dan test set yang kita terapkan adalah 80:20."
      ],
      "metadata": {
        "id": "quPimoDhSUJg"
      }
    },
    {
      "cell_type": "code",
      "execution_count": null,
      "metadata": {
        "colab": {
          "base_uri": "https://localhost:8080/"
        },
        "id": "N-Je-S5_gENa",
        "outputId": "48c36e07-c97a-4b93-d6bf-e01ca48cf0e4"
      },
      "outputs": [
        {
          "output_type": "stream",
          "name": "stdout",
          "text": [
            "Train set size :  (8177, 10) (8177,)\n",
            "Test set size  :  (2045, 10) (2045,)\n"
          ]
        }
      ],
      "source": [
        "#import slpit data\n",
        "from sklearn.model_selection import train_test_split\n",
        "\n",
        "#inisialisai data X_train, X_test, y_train, y_test, data dibagi ke dalam 80% train, 20% test\n",
        "X_train, X_test, y_train, y_test = train_test_split(X, y_res, test_size=0.2, random_state=42)\n",
        "\n",
        "print('Train set size : ', X_train.shape, y_train.shape)\n",
        "print('Test set size  : ', X_test.shape, y_test.shape)"
      ]
    },
    {
      "cell_type": "markdown",
      "metadata": {
        "id": "Thdus900NiCP"
      },
      "source": [
        "#4.MODELING"
      ]
    },
    {
      "cell_type": "code",
      "execution_count": null,
      "metadata": {
        "id": "49apyQ1PhOEm"
      },
      "outputs": [],
      "source": [
        "#import grid search untuk mencari tunning terbaik\n",
        "from sklearn.model_selection import GridSearchCV\n",
        "#import grid search untuk mencari tunning terbaik\n",
        "from sklearn.model_selection import StratifiedKFold"
      ]
    },
    {
      "cell_type": "markdown",
      "source": [
        "Cat : Modeling yang akan digunakan menggunakan KNN dan XGBOOST. Disini menggunakan fungsi gridsearch untuk mencari setting/tunning hyperparameter terbaik dari setiap model nya,"
      ],
      "metadata": {
        "id": "Qh_oGesupKph"
      }
    },
    {
      "cell_type": "markdown",
      "metadata": {
        "id": "Ohn3CZuPhWaf"
      },
      "source": [
        "##a.KNN"
      ]
    },
    {
      "cell_type": "code",
      "execution_count": null,
      "metadata": {
        "id": "peMtEO2FcH1u"
      },
      "outputs": [],
      "source": [
        "from sklearn.neighbors import KNeighborsClassifier"
      ]
    },
    {
      "cell_type": "markdown",
      "source": [
        "Cat : tunning hyperparameter untuk KNN menggunkan parameter n_neighbors dengan nilai mencari k dari 2 sampai 21."
      ],
      "metadata": {
        "id": "X3x_kWWupubF"
      }
    },
    {
      "cell_type": "code",
      "source": [
        "#Parameter\n",
        "hyperparameters_knn = {'n_neighbors': list(range(2, 21)),\n",
        "                       'algorithm' : ['auto', 'ball_tree', 'kd_tree', 'brute'],\n",
        "                       'leaf_size': list(range(2, 21))}\n",
        "\n",
        "cv = StratifiedKFold(n_splits=11, random_state=0, shuffle=True)"
      ],
      "metadata": {
        "id": "lsIRmZ4PWB-t"
      },
      "execution_count": null,
      "outputs": []
    },
    {
      "cell_type": "markdown",
      "source": [
        "Cat : Setting model KNN terbaik pada n_neighboars = 7"
      ],
      "metadata": {
        "id": "CUg5QQlYqQNp"
      }
    },
    {
      "cell_type": "code",
      "execution_count": null,
      "metadata": {
        "colab": {
          "base_uri": "https://localhost:8080/"
        },
        "id": "p9I5zZ5NcJ3y",
        "outputId": "24dfc391-bda9-4829-f984-b79b791ed528"
      },
      "outputs": [
        {
          "metadata": {
            "tags": null
          },
          "name": "stdout",
          "output_type": "stream",
          "text": [
            "Fitting 11 folds for each of 1444 candidates, totalling 15884 fits\n"
          ]
        }
      ],
      "source": [
        "model_knn = GridSearchCV(KNeighborsClassifier(), hyperparameters_knn, cv=cv, n_jobs=-1, verbose=10)\n",
        "\n",
        "model_knn.fit(X_train, y_train)\n",
        "print('Setting model KNN terbaik :', model_knn.best_params_)"
      ]
    },
    {
      "cell_type": "markdown",
      "source": [
        "##c. SVM"
      ],
      "metadata": {
        "id": "wJzL92EgELVq"
      }
    },
    {
      "cell_type": "code",
      "source": [
        "from sklearn.svm import SVC"
      ],
      "metadata": {
        "id": "eODr_z7SEOWb"
      },
      "execution_count": null,
      "outputs": []
    },
    {
      "cell_type": "code",
      "source": [
        "hyperparameters_SVC = {'c': [0.1, 0.3],\n",
        "                       'kernel': ['linear' 'poly']}\n",
        "cv = StratifiedKFold(n_splits=5, random_state=0, shuffle=True)"
      ],
      "metadata": {
        "id": "OvgSdNLTEnt5"
      },
      "execution_count": null,
      "outputs": []
    },
    {
      "cell_type": "code",
      "source": [
        "model_nb = GridSearchCV(GaussianNB(), hyperparameters_nb, cv=cv, n_jobs=-1, verbose=10)\n",
        "\n",
        "model_nb.fit(X_train, y_train)\n",
        "print('model XGBOST :', model_nb.best_params_)"
      ],
      "metadata": {
        "colab": {
          "base_uri": "https://localhost:8080/"
        },
        "id": "D6OXmcdFEquE",
        "outputId": "15ba0e5d-fa17-44cd-dfb6-6263d9e131a5"
      },
      "execution_count": null,
      "outputs": [
        {
          "output_type": "stream",
          "name": "stdout",
          "text": [
            "Fitting 5 folds for each of 100 candidates, totalling 500 fits\n",
            "model XGBOST : {'var_smoothing': 0.2848035868435802}\n"
          ]
        }
      ]
    },
    {
      "cell_type": "markdown",
      "source": [],
      "metadata": {
        "id": "PCDd3CITEp4O"
      }
    },
    {
      "cell_type": "markdown",
      "metadata": {
        "id": "Uz3UOSn9NjmP"
      },
      "source": [
        "#5.EVALUASI"
      ]
    },
    {
      "cell_type": "code",
      "execution_count": null,
      "metadata": {
        "id": "dnEt6hGF-2s3"
      },
      "outputs": [],
      "source": [
        "from sklearn.metrics import classification_report #import classification report menampilkan laporan klasifikasi\n",
        "from sklearn import metrics #import metrics unttuk melihat score accuracy"
      ]
    },
    {
      "cell_type": "markdown",
      "metadata": {
        "id": "8jO1UbzlHbkX"
      },
      "source": [
        "##a.KNN"
      ]
    },
    {
      "cell_type": "code",
      "execution_count": null,
      "metadata": {
        "colab": {
          "base_uri": "https://localhost:8080/"
        },
        "id": "y8z3o8IacOJf",
        "outputId": "ad223726-7b97-4c4b-c0f5-deb70cd5da74"
      },
      "outputs": [
        {
          "output_type": "stream",
          "name": "stdout",
          "text": [
            "              precision    recall  f1-score   support\n",
            "\n",
            "           0       0.82      0.81      0.81      1045\n",
            "           1       0.80      0.81      0.80      1000\n",
            "\n",
            "    accuracy                           0.81      2045\n",
            "   macro avg       0.81      0.81      0.81      2045\n",
            "weighted avg       0.81      0.81      0.81      2045\n",
            "\n"
          ]
        }
      ],
      "source": [
        "y_pred = model_knn.predict(X_test) #predict X_test\n",
        "print(classification_report(y_test, y_pred)) #menampilkan hasil classification report"
      ]
    },
    {
      "cell_type": "code",
      "source": [
        "print(\"Train set Accuracy : \", metrics.accuracy_score(y_train, model_knn.predict(X_train)))\n",
        "print(\"Test set Accuracy : \", metrics.accuracy_score(y_test, y_pred))"
      ],
      "metadata": {
        "colab": {
          "base_uri": "https://localhost:8080/"
        },
        "id": "vAyU5QmYBWiB",
        "outputId": "224e90ce-a8c6-4460-bbf8-c753aa4c0b45"
      },
      "execution_count": null,
      "outputs": [
        {
          "output_type": "stream",
          "name": "stdout",
          "text": [
            "Train set Accuracy :  0.8234071175247646\n",
            "Test set Accuracy :  0.8078239608801956\n"
          ]
        }
      ]
    },
    {
      "cell_type": "markdown",
      "source": [
        "##c.Naive Bayes"
      ],
      "metadata": {
        "id": "9hLXqep6IH6F"
      }
    },
    {
      "cell_type": "code",
      "source": [
        "print(\"Train set Accuracy : \", metrics.accuracy_score(y_train, model_xgboost.predict(X_train)))\n",
        "print(\"Test set Accuracy : \", metrics.accuracy_score(y_test, y_pred))"
      ],
      "metadata": {
        "id": "3xhna1lIIP7U",
        "colab": {
          "base_uri": "https://localhost:8080/"
        },
        "outputId": "80ff29a0-6b04-458e-8bd2-526cace33153"
      },
      "execution_count": null,
      "outputs": [
        {
          "output_type": "stream",
          "name": "stdout",
          "text": [
            "Train set Accuracy :  0.8567934450287391\n",
            "Test set Accuracy :  0.832762836185819\n"
          ]
        }
      ]
    },
    {
      "cell_type": "code",
      "source": [
        "y_pred = model_nb.predict(X_test)\n",
        "print(classification_report(y_test, y_pred))"
      ],
      "metadata": {
        "id": "wAS19IZIIRBv",
        "colab": {
          "base_uri": "https://localhost:8080/"
        },
        "outputId": "ed9e5c9d-4ef6-4de5-b34c-98c6a2cc2ba6"
      },
      "execution_count": null,
      "outputs": [
        {
          "output_type": "stream",
          "name": "stdout",
          "text": [
            "              precision    recall  f1-score   support\n",
            "\n",
            "           0       0.81      0.64      0.72      1045\n",
            "           1       0.69      0.84      0.76      1000\n",
            "\n",
            "    accuracy                           0.74      2045\n",
            "   macro avg       0.75      0.74      0.74      2045\n",
            "weighted avg       0.76      0.74      0.74      2045\n",
            "\n"
          ]
        }
      ]
    },
    {
      "cell_type": "code",
      "source": [
        "print(\"Train set Accuracy : \", metrics.accuracy_score(y_train, model_nb.predict(X_train)))\n",
        "print(\"Test set Accuracy : \", metrics.accuracy_score(y_test, y_pred))"
      ],
      "metadata": {
        "colab": {
          "base_uri": "https://localhost:8080/"
        },
        "id": "gA2a1VbkGD5k",
        "outputId": "32097bb3-0527-4f76-9e4d-bc6ac3efa11e"
      },
      "execution_count": null,
      "outputs": [
        {
          "output_type": "stream",
          "name": "stdout",
          "text": [
            "Train set Accuracy :  0.7309526721291427\n",
            "Test set Accuracy :  0.7427872860635697\n"
          ]
        }
      ]
    },
    {
      "cell_type": "markdown",
      "metadata": {
        "id": "t5JyfVAgdFYp"
      },
      "source": [
        "##Save Model"
      ]
    },
    {
      "cell_type": "code",
      "execution_count": null,
      "metadata": {
        "id": "PKagGpaRHYms"
      },
      "outputs": [],
      "source": [
        "import pickle"
      ]
    },
    {
      "cell_type": "code",
      "execution_count": null,
      "metadata": {
        "id": "eyfZanJFHkX1"
      },
      "outputs": [],
      "source": [
        "#scaler\n",
        "pickle.dump(scaler, open('/content/drive/MyDrive/PROJEK AKHIR/APP/MODEL/scaler_churn.pkl', 'wb'))\n",
        "#model\n",
        "pickle.dump(model_knn, open('/content/drive/MyDrive/PROJEK AKHIR/APP/MODEL/model_knn.pkl', 'wb'))\n"
      ]
    },
    {
      "cell_type": "code",
      "source": [
        "model_xgboost.save_model(\"/content/drive/MyDrive/PROJEK AKHIR/APP/MODEL/model_xgboost.txt\")\n",
        "pickle.dump(scaler, open('/content/drive/MyDrive/PROJEK AKHIR/APP/MODEL/scaler_churn.txt', 'wb'))"
      ],
      "metadata": {
        "id": "y1-8jcvc3mq1"
      },
      "execution_count": null,
      "outputs": []
    },
    {
      "cell_type": "markdown",
      "source": [
        "#Kesimpulan"
      ],
      "metadata": {
        "id": "Ou52B6ILl6i3"
      }
    },
    {
      "cell_type": "markdown",
      "source": [],
      "metadata": {
        "id": "KcfoQRRCmPDj"
      }
    }
  ],
  "metadata": {
    "colab": {
      "provenance": [],
      "collapsed_sections": [
        "J4DdNBJqKQch",
        "A5LEvRCFQPZP",
        "vbEwOTpySN1u",
        "Ohn3CZuPhWaf",
        "M57yNJPQhIIA",
        "8jO1UbzlHbkX",
        "HsSfr6Mx4WAL"
      ]
    },
    "kernelspec": {
      "display_name": "Python 3",
      "name": "python3"
    },
    "language_info": {
      "name": "python"
    }
  },
  "nbformat": 4,
  "nbformat_minor": 0
}